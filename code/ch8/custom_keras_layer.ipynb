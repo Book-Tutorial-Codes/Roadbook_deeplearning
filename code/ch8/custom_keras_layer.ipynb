{
 "cells": [
  {
   "cell_type": "markdown",
   "metadata": {},
   "source": [
    "## Lambda 층 사용하기"
   ]
  },
  {
   "cell_type": "code",
   "execution_count": 59,
   "metadata": {},
   "outputs": [
    {
     "name": "stdout",
     "output_type": "stream",
     "text": [
      "모델의 출력값: tf.Tensor([[-1.4142135  -0.70710677  0.          0.70710677  1.4142135 ]], shape=(1, 5), dtype=float32)\n",
      "결과 확인: tf.Tensor([[-1.4142135  -0.70710677  0.          0.70710677  1.4142135 ]], shape=(1, 5), dtype=float32)\n"
     ]
    }
   ],
   "source": [
    "from tensorflow.keras.layers import Lambda, Input, Dense\n",
    "from tensorflow.keras.models import Model\n",
    "from tensorflow.keras import backend as K\n",
    "\n",
    "# 나만의 함수를 정의합니다.\n",
    "def custom_f(x):\n",
    "    x_mean = K.mean(x)\n",
    "    x_std = K.std(x)\n",
    "\n",
    "    return (x - x_mean) / x_std\n",
    "\n",
    "inputs = Input(shape = (5, ))\n",
    "# Lambda 층을 통해 Layer으로 변환하여 연결합니다.\n",
    "x = Lambda(custom_f)(inputs)\n",
    "# 기존에 사용하던 층과 연결하여 사용할 수 있습니다.\n",
    "# x = Dense(32, activation = 'relu')(x)\n",
    "\n",
    "# 모델을 구성합니다.\n",
    "model = Model(inputs, x)\n",
    "\n",
    "# 간단한 예제\n",
    "import tensorflow as tf\n",
    "\n",
    "a = tf.Variable([[1., 2., 3., 4., 5.]])\n",
    "a_mean = K.mean(a); a_std = K.std(a)\n",
    "result_check = (a - a_mean) / a_std\n",
    "\n",
    "print('모델의 출력값: ' + str(model(a)))\n",
    "print('결과 확인: ' + str(result_check))"
   ]
  },
  {
   "cell_type": "markdown",
   "metadata": {},
   "source": [
    "## 커스텀 케라스 층 사용하기"
   ]
  },
  {
   "cell_type": "code",
   "execution_count": 81,
   "metadata": {},
   "outputs": [],
   "source": [
    "from tensorflow.keras.layers import Layer, Input, Dense\n",
    "from tensorflow.keras.models import Model\n",
    "from tensorflow.keras.activations import relu\n",
    "\n",
    "# 커스텀 층을 정의합니다.\n",
    "class CustomLayer(Layer):\n",
    "    def __init__(self, num_hidden):\n",
    "        super(CustomLayer, self).__init__()\n",
    "        self.num_hidden = num_hidden\n",
    "    \n",
    "    # 가중치를 정의합니다.\n",
    "    def build(self, input_shape):\n",
    "        self.kernels = self.add_weight('kernels',\n",
    "                                       shape = [int(input_shape[-1]), self.num_hidden])\n",
    "        \n",
    "        self.bias = self.add_weight('bias',\n",
    "                                   shape = [self.num_hidden])\n",
    "    \n",
    "    # 수행할 연산을 정의합니다.\n",
    "    def call(self, x):\n",
    "        return relu(tf.matmul(x, self.kernels) + self.bias)\n",
    "    \n",
    "    # 출력값의 형태를 명시해줍니다.\n",
    "    def compute_output_shape(self, input_shape):\n",
    "        return [input_shape[0], self.num_hidden]\n",
    "\n",
    "# 모델을 구성합니다.\n",
    "inputs = Input(shape = (5, ))\n",
    "x = CustomLayer(32)(inputs)\n",
    "model = Model(inputs, x)"
   ]
  },
  {
   "cell_type": "markdown",
   "metadata": {},
   "source": [
    "## 커스텀 함수와 Dense 층 파라미터 수 비교"
   ]
  },
  {
   "cell_type": "code",
   "execution_count": 82,
   "metadata": {},
   "outputs": [
    {
     "name": "stdout",
     "output_type": "stream",
     "text": [
      "Model: \"model_23\"\n",
      "_________________________________________________________________\n",
      "Layer (type)                 Output Shape              Param #   \n",
      "=================================================================\n",
      "input_29 (InputLayer)        [(None, 5)]               0         \n",
      "_________________________________________________________________\n",
      "custom_layer_10 (CustomLayer (None, 32)                192       \n",
      "=================================================================\n",
      "Total params: 192\n",
      "Trainable params: 192\n",
      "Non-trainable params: 0\n",
      "_________________________________________________________________\n"
     ]
    }
   ],
   "source": [
    "model.summary()"
   ]
  },
  {
   "cell_type": "code",
   "execution_count": 83,
   "metadata": {},
   "outputs": [
    {
     "name": "stdout",
     "output_type": "stream",
     "text": [
      "Model: \"model_24\"\n",
      "_________________________________________________________________\n",
      "Layer (type)                 Output Shape              Param #   \n",
      "=================================================================\n",
      "input_30 (InputLayer)        [(None, 5)]               0         \n",
      "_________________________________________________________________\n",
      "dense_10 (Dense)             (None, 32)                192       \n",
      "=================================================================\n",
      "Total params: 192\n",
      "Trainable params: 192\n",
      "Non-trainable params: 0\n",
      "_________________________________________________________________\n"
     ]
    }
   ],
   "source": [
    "inputs = Input(shape = (5, ))\n",
    "x = Dense(32)(inputs)\n",
    "\n",
    "model = Model(inputs, x)\n",
    "model.summary()"
   ]
  }
 ],
 "metadata": {
  "kernelspec": {
   "display_name": "keras_study",
   "language": "python",
   "name": "keras_study"
  },
  "language_info": {
   "codemirror_mode": {
    "name": "ipython",
    "version": 3
   },
   "file_extension": ".py",
   "mimetype": "text/x-python",
   "name": "python",
   "nbconvert_exporter": "python",
   "pygments_lexer": "ipython3",
   "version": "3.7.3"
  }
 },
 "nbformat": 4,
 "nbformat_minor": 2
}
