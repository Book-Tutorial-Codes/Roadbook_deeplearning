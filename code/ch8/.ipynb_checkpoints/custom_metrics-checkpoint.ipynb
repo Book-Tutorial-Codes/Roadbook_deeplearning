{
 "cells": [
  {
   "cell_type": "markdown",
   "metadata": {},
   "source": [
    "## 커스텀 평가지표 정의하여 사용하기"
   ]
  },
  {
   "cell_type": "code",
   "execution_count": null,
   "metadata": {},
   "outputs": [],
   "source": [
    "from tensorflow.keras import backend as K\n",
    "\n",
    "# 커스텀 평가지표를 정의합니다.\n",
    "def recall_metric(y_true, y_pred):\n",
    "    true_pos = K.sum(K.round(K.clip(y_true * y_pred, 0.0, 1.0)))\n",
    "    pred_pos = K.sum(K.round(K.clip(y_true, 0.0, 1.0)))\n",
    "    recall = true_pos / (pred_pos + K.epsilon())\n",
    "        \n",
    "    return recall\n",
    "\n",
    "def precision_metric(y_true, y_pred):\n",
    "    true_pos = K.sum(K.round(K.clip(y_true * y_pred, 0.0, 1.0)))\n",
    "    pred_pos = K.sum(K.round(K.clip(y_pred, 0.0, 1.0)))\n",
    "    precision = true_pos / (pred_pos + K.epsilon())\n",
    "        \n",
    "    return precision\n",
    "\n",
    "def f1_metric(y_true, y_pred):\n",
    "    recall = recall_metric(y_true, y_pred)\n",
    "    precision = precision_metric(y_true, y_pred)\n",
    "    \n",
    "    return 2 * ((precision * recall) / (precision + recall + K.epsilon()))"
   ]
  },
  {
   "cell_type": "code",
   "execution_count": 4,
   "metadata": {},
   "outputs": [
    {
     "name": "stdout",
     "output_type": "stream",
     "text": [
      "Train on 42000 samples, validate on 18000 samples\n",
      "Epoch 1/10\n",
      "42000/42000 [==============================] - 11s 264us/sample - loss: 1.7068 - acc: 0.3659 - recall_metric: 0.0933 - precision_metric: 0.7093 - f1_metric: 0.1606 - val_loss: 1.4328 - val_acc: 0.4775 - val_recall_metric: 0.1364 - val_precision_metric: 0.8863 - val_f1_metric: 0.2318\n",
      "Epoch 2/10\n",
      "42000/42000 [==============================] - 9s 223us/sample - loss: 1.2717 - acc: 0.5709 - recall_metric: 0.2279 - precision_metric: 0.8611 - f1_metric: 0.3516 - val_loss: 1.1071 - val_acc: 0.6409 - val_recall_metric: 0.3267 - val_precision_metric: 0.8844 - val_f1_metric: 0.4720\n",
      "Epoch 3/10\n",
      "42000/42000 [==============================] - 9s 223us/sample - loss: 1.0066 - acc: 0.6701 - recall_metric: 0.4157 - precision_metric: 0.8637 - f1_metric: 0.5551 - val_loss: 0.9152 - val_acc: 0.7031 - val_recall_metric: 0.4918 - val_precision_metric: 0.8790 - val_f1_metric: 0.6272\n",
      "Epoch 4/10\n",
      "42000/42000 [==============================] - 9s 222us/sample - loss: 0.8411 - acc: 0.7301 - recall_metric: 0.5524 - precision_metric: 0.8682 - f1_metric: 0.6717 - val_loss: 0.7759 - val_acc: 0.7617 - val_recall_metric: 0.5888 - val_precision_metric: 0.8745 - val_f1_metric: 0.7009\n",
      "Epoch 5/10\n",
      "42000/42000 [==============================] - 9s 223us/sample - loss: 0.7234 - acc: 0.7767 - recall_metric: 0.6452 - precision_metric: 0.8818 - f1_metric: 0.7428 - val_loss: 0.6703 - val_acc: 0.8093 - val_recall_metric: 0.6970 - val_precision_metric: 0.8988 - val_f1_metric: 0.7834\n",
      "Epoch 6/10\n",
      "42000/42000 [==============================] - 9s 225us/sample - loss: 0.6391 - acc: 0.8066 - recall_metric: 0.7077 - precision_metric: 0.8877 - f1_metric: 0.7859 - val_loss: 0.5829 - val_acc: 0.8281 - val_recall_metric: 0.7449 - val_precision_metric: 0.8981 - val_f1_metric: 0.8130\n",
      "Epoch 7/10\n",
      "42000/42000 [==============================] - 10s 228us/sample - loss: 0.5714 - acc: 0.8272 - recall_metric: 0.7516 - precision_metric: 0.8928 - f1_metric: 0.8149 - val_loss: 0.5879 - val_acc: 0.8130 - val_recall_metric: 0.7411 - val_precision_metric: 0.8769 - val_f1_metric: 0.8021\n",
      "Epoch 8/10\n",
      "42000/42000 [==============================] - 10s 226us/sample - loss: 0.5204 - acc: 0.8435 - recall_metric: 0.7811 - precision_metric: 0.8996 - f1_metric: 0.8351 - val_loss: 0.4835 - val_acc: 0.8588 - val_recall_metric: 0.8068 - val_precision_metric: 0.9118 - val_f1_metric: 0.8552\n",
      "Epoch 9/10\n",
      "42000/42000 [==============================] - 9s 224us/sample - loss: 0.4821 - acc: 0.8543 - recall_metric: 0.8029 - precision_metric: 0.9025 - f1_metric: 0.8490 - val_loss: 0.4801 - val_acc: 0.8477 - val_recall_metric: 0.8055 - val_precision_metric: 0.8901 - val_f1_metric: 0.8450\n",
      "Epoch 10/10\n",
      "42000/42000 [==============================] - 9s 226us/sample - loss: 0.4530 - acc: 0.8613 - recall_metric: 0.8183 - precision_metric: 0.9041 - f1_metric: 0.8583 - val_loss: 0.4255 - val_acc: 0.8750 - val_recall_metric: 0.8354 - val_precision_metric: 0.9162 - val_f1_metric: 0.8733\n"
     ]
    },
    {
     "data": {
      "text/plain": [
       "<tensorflow.python.keras.callbacks.History at 0x265c834c898>"
      ]
     },
     "execution_count": 4,
     "metadata": {},
     "output_type": "execute_result"
    }
   ],
   "source": [
    "from tensorflow.keras.datasets import mnist\n",
    "\n",
    "(x_train, y_train), (x_test, y_test) = mnist.load_data(path='mnist.npz')\n",
    "\n",
    "from sklearn.model_selection import train_test_split\n",
    "\n",
    "x_train, x_val, y_train, y_val = train_test_split(x_train, y_train, test_size = 0.3, random_state = 777)\n",
    "\n",
    "x_train = (x_train.reshape(-1, 28, 28, 1)) / 255\n",
    "x_val = (x_val.reshape(-1, 28, 28, 1)) / 255\n",
    "x_test = (x_test.reshape(-1, 28, 28, 1)) / 255\n",
    "\n",
    "from tensorflow.keras.utils import to_categorical\n",
    "\n",
    "y_train = to_categorical(y_train)\n",
    "y_val = to_categorical(y_val)\n",
    "y_test = to_categorical(y_test)\n",
    "\n",
    "from tensorflow.keras.models import Model\n",
    "from tensorflow.keras.layers import Conv2D, MaxPooling2D, GlobalAveragePooling2D, Dense\n",
    "from tensorflow.keras.layers import Input\n",
    "\n",
    "inputs = Input(shape = (28, 28, 1))\n",
    "x = Conv2D(32, (3, 3), activation = 'relu')(inputs)\n",
    "x = Conv2D(32, (3, 3), activation = 'relu')(x)\n",
    "x = MaxPooling2D(strides = 2)(x)\n",
    "x = GlobalAveragePooling2D()(x)\n",
    "x = Dense(10, activation = 'softmax')(x)\n",
    "\n",
    "model = Model(inputs = inputs, outputs = x)\n",
    "\n",
    "# 정의한 손실 함수를 사용합니다.\n",
    "model.compile(optimizer = 'adam', \n",
    "              loss = 'categorical_crossentropy',\n",
    "              metrics = ['acc', recall_metric, precision_metric, f1_metric])\n",
    "\n",
    "model.fit(x_train, y_train,\n",
    "         batch_size = 32,\n",
    "         validation_data = (x_val, y_val),\n",
    "         epochs = 10)"
   ]
  }
 ],
 "metadata": {
  "kernelspec": {
   "display_name": "keras_study",
   "language": "python",
   "name": "keras_study"
  },
  "language_info": {
   "codemirror_mode": {
    "name": "ipython",
    "version": 3
   },
   "file_extension": ".py",
   "mimetype": "text/x-python",
   "name": "python",
   "nbconvert_exporter": "python",
   "pygments_lexer": "ipython3",
   "version": "3.7.3"
  }
 },
 "nbformat": 4,
 "nbformat_minor": 2
}
