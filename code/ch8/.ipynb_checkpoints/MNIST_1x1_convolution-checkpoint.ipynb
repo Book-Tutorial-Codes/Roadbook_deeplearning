{
 "cells": [
  {
   "cell_type": "markdown",
   "metadata": {},
   "source": [
    "## 컨볼루션 층만으로 구성한 모델 - 1"
   ]
  },
  {
   "cell_type": "code",
   "execution_count": null,
   "metadata": {},
   "outputs": [],
   "source": [
    "from tensorflow.keras.layers import Input, Conv2D, GlobalAveragePooling2D, MaxPooling2D\n",
    "from tensorflow.keras.models import Model\n",
    "\n",
    "inputs = Input(shape = (28, 28, 1))\n",
    "x = Conv2D(32, (3, 3), strides = (1, 1), padding = 'same', activation = 'relu')(inputs)\n",
    "x = MaxPooling2D(strides = (2, 2))(x)\n",
    "x = Conv2D(64, (3, 3), strides = (1, 1), padding = 'same', activation = 'relu')(x)\n",
    "x = MaxPooling2D(strides = (2, 2))(x)\n",
    "x = Conv2D(64, (3, 3), strides = (1, 1), padding = 'same', activation = 'relu')(x)\n",
    "x = MaxPooling2D(strides = (2, 2))(x)\n",
    "# 1x1 컨볼루션을 사용하여,\n",
    "# 모델의 분류기를 구성합니다.\n",
    "x = Conv2D(10, (1, 1), activation = 'softmax')(x)\n",
    "x = GlobalAveragePooling2D()(x)\n",
    "\n",
    "model = Model(inputs = inputs, outputs = x)"
   ]
  },
  {
   "cell_type": "markdown",
   "metadata": {},
   "source": [
    "## 컨볼루션 층만으로 구성한 모델 - 2"
   ]
  },
  {
   "cell_type": "code",
   "execution_count": null,
   "metadata": {},
   "outputs": [],
   "source": [
    "from tensorflow.keras.layers import Input, Conv2D, Reshape\n",
    "from tensorflow.keras.layers import GlobalAveragePooling2D, MaxPooling2D\n",
    "from tensorflow.keras.models import Model\n",
    "\n",
    "inputs = Input(shape = (28, 28, 1))\n",
    "x = Conv2D(32, (3, 3), strides = (1, 1), padding = 'same', activation = 'relu')(inputs)\n",
    "x = MaxPooling2D(strides = (2, 2))(x)\n",
    "x = Conv2D(64, (3, 3), strides = (1, 1), padding = 'same', activation = 'relu')(x)\n",
    "x = MaxPooling2D(strides = (2, 2))(x)\n",
    "x = Conv2D(64, (3, 3), strides = (1, 1), padding = 'same', activation = 'relu')(x)\n",
    "x = MaxPooling2D(strides = (2, 2))(x)\n",
    "x = Conv2D(128, (1, 1), padding = 'same', activation = 'relu')(x)\n",
    "x = GlobalAveragePooling2D()(x)\n",
    "# 1x1 컨볼루션 사용을 위해\n",
    "# Reshape 층을 사용하여 적절히 형태를 변경해줍니다.\n",
    "x = Reshape((1, 1, 128))(x)\n",
    "x = Conv2D(10, (1, 1), padding = 'same', activation = 'softmax')(x)\n",
    "x = Reshape((10,))(x)\n",
    "\n",
    "model = Model(inputs = inputs, outputs = x)"
   ]
  },
  {
   "cell_type": "markdown",
   "metadata": {},
   "source": [
    "# Dense 층 입력 크기에 따른 파라미터 변화 확인"
   ]
  },
  {
   "cell_type": "markdown",
   "metadata": {},
   "source": [
    "## (1)"
   ]
  },
  {
   "cell_type": "code",
   "execution_count": 12,
   "metadata": {},
   "outputs": [
    {
     "name": "stdout",
     "output_type": "stream",
     "text": [
      "Model: \"model_5\"\n",
      "_________________________________________________________________\n",
      "Layer (type)                 Output Shape              Param #   \n",
      "=================================================================\n",
      "input_8 (InputLayer)         [(None, 55, 55, 1)]       0         \n",
      "_________________________________________________________________\n",
      "conv2d_21 (Conv2D)           (None, 55, 55, 32)        320       \n",
      "_________________________________________________________________\n",
      "max_pooling2d_21 (MaxPooling (None, 27, 27, 32)        0         \n",
      "_________________________________________________________________\n",
      "conv2d_22 (Conv2D)           (None, 27, 27, 64)        18496     \n",
      "_________________________________________________________________\n",
      "max_pooling2d_22 (MaxPooling (None, 13, 13, 64)        0         \n",
      "_________________________________________________________________\n",
      "conv2d_23 (Conv2D)           (None, 13, 13, 64)        36928     \n",
      "_________________________________________________________________\n",
      "max_pooling2d_23 (MaxPooling (None, 6, 6, 64)          0         \n",
      "_________________________________________________________________\n",
      "flatten (Flatten)            (None, 2304)              0         \n",
      "_________________________________________________________________\n",
      "dense_12 (Dense)             (None, 32)                73760     \n",
      "_________________________________________________________________\n",
      "dense_13 (Dense)             (None, 10)                330       \n",
      "=================================================================\n",
      "Total params: 129,834\n",
      "Trainable params: 129,834\n",
      "Non-trainable params: 0\n",
      "_________________________________________________________________\n"
     ]
    }
   ],
   "source": [
    "from tensorflow.keras.layers import Input, Conv2D, GlobalAveragePooling2D, MaxPooling2D, Dense, Flatten\n",
    "from tensorflow.keras.models import Model\n",
    "\n",
    "\n",
    "inputs = Input(shape = (55, 55, 1))\n",
    "x = Conv2D(32, (3, 3), strides = (1, 1), padding = 'same', activation = 'relu')(inputs)\n",
    "x = MaxPooling2D(strides = (2, 2))(x)\n",
    "x = Conv2D(64, (3, 3), strides = (1, 1), padding = 'same', activation = 'relu')(x)\n",
    "x = MaxPooling2D(strides = (2, 2))(x)\n",
    "x = Conv2D(64, (3, 3), strides = (1, 1), padding = 'same', activation = 'relu')(x)\n",
    "x = MaxPooling2D(strides = (2, 2))(x)\n",
    "x = Flatten()(x)\n",
    "x = Dense(32, activation = 'sigmoid')(x)\n",
    "x = Dense(10, activation = 'softmax')(x)\n",
    "\n",
    "model = Model(inputs = inputs, outputs = x)\n",
    "model.summary()"
   ]
  },
  {
   "cell_type": "markdown",
   "metadata": {},
   "source": [
    "## (2)"
   ]
  },
  {
   "cell_type": "code",
   "execution_count": 13,
   "metadata": {},
   "outputs": [
    {
     "name": "stdout",
     "output_type": "stream",
     "text": [
      "Model: \"model_6\"\n",
      "_________________________________________________________________\n",
      "Layer (type)                 Output Shape              Param #   \n",
      "=================================================================\n",
      "input_9 (InputLayer)         [(None, 24, 24, 1)]       0         \n",
      "_________________________________________________________________\n",
      "conv2d_24 (Conv2D)           (None, 24, 24, 32)        320       \n",
      "_________________________________________________________________\n",
      "max_pooling2d_24 (MaxPooling (None, 12, 12, 32)        0         \n",
      "_________________________________________________________________\n",
      "conv2d_25 (Conv2D)           (None, 12, 12, 64)        18496     \n",
      "_________________________________________________________________\n",
      "max_pooling2d_25 (MaxPooling (None, 6, 6, 64)          0         \n",
      "_________________________________________________________________\n",
      "conv2d_26 (Conv2D)           (None, 6, 6, 64)          36928     \n",
      "_________________________________________________________________\n",
      "max_pooling2d_26 (MaxPooling (None, 3, 3, 64)          0         \n",
      "_________________________________________________________________\n",
      "flatten_1 (Flatten)          (None, 576)               0         \n",
      "_________________________________________________________________\n",
      "dense_14 (Dense)             (None, 32)                18464     \n",
      "_________________________________________________________________\n",
      "dense_15 (Dense)             (None, 10)                330       \n",
      "=================================================================\n",
      "Total params: 74,538\n",
      "Trainable params: 74,538\n",
      "Non-trainable params: 0\n",
      "_________________________________________________________________\n"
     ]
    }
   ],
   "source": [
    "from tensorflow.keras.layers import Input, Conv2D, GlobalAveragePooling2D, MaxPooling2D, Dense\n",
    "from tensorflow.keras.models import Model\n",
    "\n",
    "\n",
    "inputs = Input(shape = (24, 24, 1))\n",
    "x = Conv2D(32, (3, 3), strides = (1, 1), padding = 'same', activation = 'relu')(inputs)\n",
    "x = MaxPooling2D(strides = (2, 2))(x)\n",
    "x = Conv2D(64, (3, 3), strides = (1, 1), padding = 'same', activation = 'relu')(x)\n",
    "x = MaxPooling2D(strides = (2, 2))(x)\n",
    "x = Conv2D(64, (3, 3), strides = (1, 1), padding = 'same', activation = 'relu')(x)\n",
    "x = MaxPooling2D(strides = (2, 2))(x)\n",
    "x = Flatten()(x)\n",
    "x = Dense(32, activation = 'sigmoid')(x)\n",
    "x = Dense(10, activation = 'softmax')(x)\n",
    "\n",
    "model = Model(inputs = inputs, outputs = x)\n",
    "model.summary()"
   ]
  },
  {
   "cell_type": "markdown",
   "metadata": {},
   "source": [
    "## (3)"
   ]
  },
  {
   "cell_type": "code",
   "execution_count": 16,
   "metadata": {},
   "outputs": [
    {
     "name": "stdout",
     "output_type": "stream",
     "text": [
      "Model: \"model_7\"\n",
      "_________________________________________________________________\n",
      "Layer (type)                 Output Shape              Param #   \n",
      "=================================================================\n",
      "input_10 (InputLayer)        [(None, 24, 24, 1)]       0         \n",
      "_________________________________________________________________\n",
      "conv2d_27 (Conv2D)           (None, 24, 24, 32)        320       \n",
      "_________________________________________________________________\n",
      "max_pooling2d_27 (MaxPooling (None, 12, 12, 32)        0         \n",
      "_________________________________________________________________\n",
      "conv2d_28 (Conv2D)           (None, 12, 12, 64)        18496     \n",
      "_________________________________________________________________\n",
      "max_pooling2d_28 (MaxPooling (None, 6, 6, 64)          0         \n",
      "_________________________________________________________________\n",
      "conv2d_29 (Conv2D)           (None, 6, 6, 64)          36928     \n",
      "_________________________________________________________________\n",
      "max_pooling2d_29 (MaxPooling (None, 3, 3, 64)          0         \n",
      "_________________________________________________________________\n",
      "conv2d_30 (Conv2D)           (None, 3, 3, 64)          4160      \n",
      "_________________________________________________________________\n",
      "conv2d_31 (Conv2D)           (None, 3, 3, 10)          650       \n",
      "=================================================================\n",
      "Total params: 60,554\n",
      "Trainable params: 60,554\n",
      "Non-trainable params: 0\n",
      "_________________________________________________________________\n"
     ]
    }
   ],
   "source": [
    "from tensorflow.keras.layers import Input, Conv2D, GlobalAveragePooling2D, MaxPooling2D, Dense\n",
    "from tensorflow.keras.models import Model\n",
    "\n",
    "\n",
    "inputs = Input(shape = (24, 24, 1))\n",
    "x = Conv2D(32, (3, 3), strides = (1, 1), padding = 'same', activation = 'relu')(inputs)\n",
    "x = MaxPooling2D(strides = (2, 2))(x)\n",
    "x = Conv2D(64, (3, 3), strides = (1, 1), padding = 'same', activation = 'relu')(x)\n",
    "x = MaxPooling2D(strides = (2, 2))(x)\n",
    "x = Conv2D(64, (3, 3), strides = (1, 1), padding = 'same', activation = 'relu')(x)\n",
    "x = MaxPooling2D(strides = (2, 2))(x)\n",
    "x = Conv2D(64, (1, 1), strides = (1, 1), padding = 'same', activation = 'relu')(x)\n",
    "x = Conv2D(10, (1, 1),strides = (1, 1), padding = 'same', activation = 'softmax')(x)\n",
    "\n",
    "model = Model(inputs = inputs, outputs = x)\n",
    "model.summary()"
   ]
  },
  {
   "cell_type": "code",
   "execution_count": null,
   "metadata": {},
   "outputs": [],
   "source": []
  }
 ],
 "metadata": {
  "kernelspec": {
   "display_name": "keras_study",
   "language": "python",
   "name": "keras_study"
  },
  "language_info": {
   "codemirror_mode": {
    "name": "ipython",
    "version": 3
   },
   "file_extension": ".py",
   "mimetype": "text/x-python",
   "name": "python",
   "nbconvert_exporter": "python",
   "pygments_lexer": "ipython3",
   "version": "3.7.3"
  }
 },
 "nbformat": 4,
 "nbformat_minor": 2
}
