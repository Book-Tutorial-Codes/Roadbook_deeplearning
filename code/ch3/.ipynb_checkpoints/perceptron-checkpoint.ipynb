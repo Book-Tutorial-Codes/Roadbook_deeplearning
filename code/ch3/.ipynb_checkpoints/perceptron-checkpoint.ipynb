{
 "cells": [
  {
   "cell_type": "code",
   "execution_count": null,
   "metadata": {},
   "outputs": [],
   "source": [
    "import tensorflow as tf\n",
    "\n",
    "tf.__version__"
   ]
  },
  {
   "cell_type": "markdown",
   "metadata": {},
   "source": [
    "# OR 게이트 구현해보기"
   ]
  },
  {
   "cell_type": "markdown",
   "metadata": {},
   "source": [
    "|x1|x2|y|\n",
    "|---|---|---|\n",
    "|0|0|0|\n",
    "|1|0|1|\n",
    "|0|1|1|\n",
    "|1|1|1|"
   ]
  },
  {
   "cell_type": "code",
   "execution_count": null,
   "metadata": {},
   "outputs": [],
   "source": [
    "import tensorflow as tf\n",
    "tf.random.set_seed(777)\n",
    "\n",
    "import numpy as np\n",
    "from tensorflow.keras.models import Sequential\n",
    "from tensorflow.keras.layers import Dense\n",
    "from tensorflow.keras.optimizers import SGD\n",
    "from tensorflow.keras.losses import mse\n",
    "\n",
    "# 데이터 준비하기\n",
    "data = np.array([[0, 0], [1, 0], [0, 1], [1, 1]])\n",
    "label = np.array([[0], [1], [1], [1]])\n",
    "\n",
    "# 모델 구성하기\n",
    "model = Sequential()\n",
    "model.add(Dense(1, input_shape = (2, ), activation = 'linear')) # 단층 퍼셉트론을 구성합니다\n",
    "\n",
    "# 모델 준비하기\n",
    "model.compile(optimizer = SGD(), loss = mse, metrics = ['acc']) # list 형태로 평가지표를 전달합니다\n",
    "\n",
    "# 학습시키기\n",
    "model.fit(data, label, epochs = 500)"
   ]
  },
  {
   "cell_type": "markdown",
   "metadata": {},
   "source": [
    "# 모델 가중치 확인하기"
   ]
  },
  {
   "cell_type": "code",
   "execution_count": null,
   "metadata": {},
   "outputs": [],
   "source": [
    "model.get_weights()"
   ]
  },
  {
   "cell_type": "markdown",
   "metadata": {},
   "source": [
    "# 벡터 점곱"
   ]
  },
  {
   "cell_type": "code",
   "execution_count": 1,
   "metadata": {},
   "outputs": [
    {
     "name": "stdout",
     "output_type": "stream",
     "text": [
      "(10, 5) dot (5, 3) result shape: (10, 3)\n"
     ]
    }
   ],
   "source": [
    "# 점곱 해보기\n",
    "import tensorflow as tf\n",
    "\n",
    "x = tf.random.uniform((10, 5)) # uniform 분포에서 해당 크기만큼 난수를 생성합니다.\n",
    "w = tf.random.uniform((5, 3))\n",
    "d = tf.matmul(x, w) # (10, 5) * (5, 3)\n",
    "\n",
    "print('(10, 5) dot (5, 3) result shape:', d.shape)"
   ]
  },
  {
   "cell_type": "markdown",
   "metadata": {},
   "source": [
    "# XOR 게이트 구현해보기 + 다층 퍼셉트론"
   ]
  },
  {
   "cell_type": "code",
   "execution_count": null,
   "metadata": {},
   "outputs": [],
   "source": [
    "import tensorflow as tf\n",
    "tf.random.set_seed(777)\n",
    "\n",
    "import numpy as np\n",
    "from tensorflow.keras.models import Sequential\n",
    "from tensorflow.keras.layers import Dense\n",
    "from tensorflow.keras.optimizers import SGD\n",
    "from tensorflow.keras.losses import mse\n",
    "\n",
    "# 데이터 준비하기\n",
    "data = np.array([[0, 0], [1, 0], [0, 1], [1, 1]])\n",
    "label = np.array([[0], [1], [1], [0]])\n",
    "\n",
    "# 모델 구성하기\n",
    "model = Sequential()\n",
    "model.add(Dense(1, input_shape = (2, ), activation = 'linear'))\n",
    "\n",
    "# 모델 준비하기\n",
    "model.compile(optimizer = SGD(), loss = mse, metrics = ['acc'])\n",
    "\n",
    "# 학습시키기\n",
    "model.fit(data, label, epochs = 10000)"
   ]
  },
  {
   "cell_type": "code",
   "execution_count": null,
   "metadata": {},
   "outputs": [],
   "source": [
    "import tensorflow as tf\n",
    "tf.random.set_seed(777)\n",
    "\n",
    "import numpy as np\n",
    "from tensorflow.keras.models import Sequential\n",
    "from tensorflow.keras.layers import Dense\n",
    "from tensorflow.keras.optimizers import RMSprop\n",
    "from tensorflow.keras.losses import mse\n",
    "\n",
    "# 데이터 준비하기\n",
    "data = np.array([[0, 0], [1, 0], [0, 1], [1, 1]])\n",
    "label = np.array([[0], [1], [1], [0]])\n",
    "\n",
    "# 모델 구성하기\n",
    "model = Sequential()\n",
    "model.add(Dense(32, input_shape = (2, ), activation = 'relu'))\n",
    "model.add(Dense(1, activation = 'sigmoid'))\n",
    "\n",
    "# 모델 준비하기\n",
    "model.compile(optimizer = RMSprop(), loss = mse, metrics = ['acc'])\n",
    "\n",
    "# 학습시키기\n",
    "model.fit(data, label, epochs = 100)"
   ]
  },
  {
   "cell_type": "code",
   "execution_count": null,
   "metadata": {},
   "outputs": [],
   "source": [
    "model.evaluate(data, label)"
   ]
  },
  {
   "cell_type": "code",
   "execution_count": null,
   "metadata": {},
   "outputs": [],
   "source": [
    "result = model.predict(data)\n",
    "print(result)"
   ]
  },
  {
   "cell_type": "markdown",
   "metadata": {},
   "source": [
    "# 여러가지 활성화 함수"
   ]
  },
  {
   "cell_type": "code",
   "execution_count": 1,
   "metadata": {},
   "outputs": [],
   "source": [
    "import numpy as np\n",
    "import matplotlib.pyplot as plt\n",
    "import math\n",
    "\n",
    "# 시그모이드 함수\n",
    "def sigmoid(x):\n",
    "    return 1 / (1 + np.exp(-x))\n",
    "\n",
    "# 하이퍼볼릭탄젠트 함수\n",
    "def tanh(x):\n",
    "    return list(map(lambda x : math.tanh(x), x))\n",
    "\n",
    "# relu 함수\n",
    "def relu(x):\n",
    "    result = []\n",
    "    for ele in x:\n",
    "        if(ele <= 0):\n",
    "            result.append(0)\n",
    "        else:\n",
    "            result.append(ele)\n",
    "            \n",
    "    return result"
   ]
  },
  {
   "cell_type": "code",
   "execution_count": 2,
   "metadata": {
    "scrolled": true
   },
   "outputs": [
    {
     "data": {
      "image/png": "[encoded data removed]",
      "text/plain": [
       "<Figure size 432x288 with 1 Axes>"
      ]
     },
     "metadata": {
      "needs_background": "light"
     },
     "output_type": "display_data"
    }
   ],
   "source": [
    "# 시그모이드 함수 그려보기\n",
    "x = np.linspace(-4, 4, 100)\n",
    "sig = sigmoid(x) # 함수를 변경하여 다른 함수도 그려보세요\n",
    "\n",
    "plt.plot(x, sig)\n",
    "plt.show()  "
   ]
  },
  {
   "cell_type": "code",
   "execution_count": null,
   "metadata": {},
   "outputs": [],
   "source": [
    "x = np.linspace(-4, 4, 100)\n",
    "tan_h = tanh(x)   \n",
    "relu_d = relu(x)  \n",
    "\n",
    "plt.figure(figsize = (15, 5))\n",
    "plt.subplot(1, 2, 1)\n",
    "plt.plot(x, tan_h)\n",
    "plt.subplot(1, 2, 2)\n",
    "plt.plot(x, relu_d)\n",
    "\n",
    "plt.show()  "
   ]
  },
  {
   "cell_type": "markdown",
   "metadata": {},
   "source": [
    "# 경사하강법 그리기"
   ]
  },
  {
   "cell_type": "code",
   "execution_count": null,
   "metadata": {},
   "outputs": [],
   "source": [
    "x = np.linspace(-2, 2, 50)\n",
    "x_square = [i ** 2 for i in x]\n",
    "\n",
    "x_2 = np.linspace(-2, 2, 10)\n",
    "dev_x = [i ** 2 for i in x_2]\n",
    "\n",
    "plt.plot(x, x_square)\n",
    "fig = plt.scatter(x_2, dev_x, color = 'red')\n",
    "fig.axes.get_xaxis().set_visible(False)\n",
    "fig.axes.get_yaxis().set_visible(False)\n",
    "plt.show()"
   ]
  },
  {
   "cell_type": "code",
   "execution_count": null,
   "metadata": {},
   "outputs": [],
   "source": [
    "x = np.linspace(-10, 10, 300)\n",
    "four_func = [(i)*(i - 1)*(i + 1)*(i + 3) for i in x]\n",
    "\n",
    "fig = plt.figure(figsize = (10, 10))\n",
    "plt.plot(x, four_func)\n",
    "plt.xlim(-10, 5)\n",
    "plt.ylim(-10, 10)\n",
    "frame1 = plt.gca()\n",
    "frame1.axes.get_xaxis().set_visible(False)\n",
    "frame1.axes.get_yaxis().set_visible(False)\n",
    "plt.show()"
   ]
  },
  {
   "cell_type": "code",
   "execution_count": null,
   "metadata": {},
   "outputs": [],
   "source": [
    "x = np.linspace(-2, 2, 50)\n",
    "x_square = [i ** 2 for i in x]\n",
    "\n",
    "x_2 = np.linspace(-2, -1, 25)\n",
    "dev_x = [i ** 2 for i in x_2]\n",
    "\n",
    "plt.plot(x, x_square)\n",
    "fig = plt.scatter(x_2, dev_x, color = 'red')\n",
    "# plt.axis()\n",
    "fig.axes.get_xaxis().set_visible(False)\n",
    "fig.axes.get_yaxis().set_visible(False)\n",
    "plt.show()"
   ]
  },
  {
   "cell_type": "code",
   "execution_count": null,
   "metadata": {},
   "outputs": [],
   "source": [
    "x = np.linspace(-2, 2, 50)\n",
    "x_square = [i ** 2 for i in x]\n",
    "\n",
    "x_2_a = np.linspace(-2, -1, 3)\n",
    "x_2_b = np.linspace(0.8, 1.8, 3)\n",
    "x_2 = np.concatenate((x_2_a, x_2_b))\n",
    "dev_x = [i ** 2 for i in x_2]\n",
    "\n",
    "a_list = []\n",
    "b_list = []\n",
    "for a, b in zip(x_2_a, x_2_b[::-1]):\n",
    "    a_list.append(a)\n",
    "    a_list.append(b)\n",
    "    b_list.append(a ** 2)\n",
    "    b_list.append(b ** 2)\n",
    "\n",
    "plt.plot(x, x_square)\n",
    "fig = plt.scatter(x_2, dev_x, color = 'red')\n",
    "plt.plot(a_list, b_list)\n",
    "# plt.axis()\n",
    "fig.axes.get_xaxis().set_visible(False)\n",
    "fig.axes.get_yaxis().set_visible(False)\n",
    "plt.show()"
   ]
  },
  {
   "cell_type": "markdown",
   "metadata": {},
   "source": [
    "# 경사하강법 실험해보기"
   ]
  },
  {
   "cell_type": "code",
   "execution_count": 20,
   "metadata": {},
   "outputs": [
    {
     "data": {
      "image/png": "[encoded data removed]",
      "text/plain": [
       "<Figure size 864x504 with 4 Axes>"
      ]
     },
     "metadata": {
      "needs_background": "light"
     },
     "output_type": "display_data"
    }
   ],
   "source": [
    "import numpy as np\n",
    "import matplotlib.pyplot as plt\n",
    "\n",
    "lr_list = [0.001, 0.1, 0.3, 0.9] # 여러가지 학습률을 사용하여 값의 변화를 관찰해보도록 합니다.\n",
    "\n",
    "def get_derivative(lr):\n",
    "    \n",
    "    w_old = 2\n",
    "    derivative = [w_old]\n",
    "\n",
    "    y = [w_old ** 2] # 손실 함수를 y= x^2 로 정의합니다.\n",
    "\n",
    "    for i in range(1, 10):\n",
    "        # 먼저 해당 위치에서 미분값을 구합니다.\n",
    "        dev_value = w_old * 2\n",
    "\n",
    "        # 위의 값을 이용하여 가중치를 업데이트합니다.\n",
    "        w_new = w_old - lr * dev_value\n",
    "        w_old = w_new\n",
    "\n",
    "        derivative.append(w_old) # 업데이트 된 가중치를 저장합니다.\n",
    "        y.append(w_old ** 2) # 업데이트 된 가중치의 손실 값을 저장합니다.\n",
    "        \n",
    "    return derivative, y\n",
    "\n",
    "x = np.linspace(-2, 2, 50) # -2 ~ 2의 범위를 50구간으로 나눈 배열을 반환합니다.\n",
    "x_square = [i ** 2 for i in x]\n",
    "\n",
    "fig = plt.figure(figsize = (12, 7))\n",
    "\n",
    "for i, lr in enumerate(lr_list):\n",
    "    derivative, y = get_derivative(lr)\n",
    "    ax = fig.add_subplot(2, 2, i + 1)\n",
    "    ax.scatter(derivative, y, color = 'red')\n",
    "    ax.plot(x, x_square)\n",
    "    ax.title.set_text('lr = ' + str(lr))\n",
    "\n",
    "plt.show()"
   ]
  }
 ],
 "metadata": {
  "kernelspec": {
   "display_name": "keras_study",
   "language": "python",
   "name": "keras_study"
  },
  "language_info": {
   "codemirror_mode": {
    "name": "ipython",
    "version": 3
   },
   "file_extension": ".py",
   "mimetype": "text/x-python",
   "name": "python",
   "nbconvert_exporter": "python",
   "pygments_lexer": "ipython3",
   "version": "3.7.3"
  }
 },
 "nbformat": 4,
 "nbformat_minor": 2
}
