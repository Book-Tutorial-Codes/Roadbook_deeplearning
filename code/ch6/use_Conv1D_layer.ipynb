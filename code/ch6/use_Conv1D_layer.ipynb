{
 "cells": [
  {
   "cell_type": "markdown",
   "metadata": {},
   "source": [
    "## 데이터셋 준비하기"
   ]
  },
  {
   "cell_type": "code",
   "execution_count": null,
   "metadata": {},
   "outputs": [],
   "source": [
    "from tensorflow.keras.datasets import imdb\n",
    "\n",
    "num_words = 10000\n",
    "(X_train, y_train), (X_test, y_test) = imdb.load_data(num_words=num_words)\n",
    "\n",
    "from tensorflow.keras.preprocessing.sequence import pad_sequences\n",
    "\n",
    "max_len = 500\n",
    "\n",
    "pad_X_train = pad_sequences(X_train, maxlen=max_len)\n",
    "pad_X_test = pad_sequences(X_test, maxlen=max_len)"
   ]
  },
  {
   "cell_type": "markdown",
   "metadata": {},
   "source": [
    "## 모델 구성하기 - Conv1D"
   ]
  },
  {
   "cell_type": "code",
   "execution_count": null,
   "metadata": {},
   "outputs": [],
   "source": [
    "from tensorflow.keras.models import Sequential\n",
    "from tensorflow.keras.layers import Dense, Embedding, Conv1D, MaxPooling1D, GlobalMaxPooling1D\n",
    "\n",
    "model = Sequential()\n",
    "# 이 층은 모델의 제일 첫 번째 층으로만 사용할 수 있습니다.\n",
    "# Flatten 층을 사용하기 위해 input_length를 전달합니다.\n",
    "model.add(Embedding(input_dim = num_words, output_dim = 32, input_length = max_len))\n",
    "model.add(Conv1D(32, 7, activation = 'relu'))\n",
    "model.add(MaxPooling1D(7))\n",
    "model.add(Conv1D(32, 5, activation = 'relu'))\n",
    "model.add(MaxPooling1D(5))\n",
    "model.add(GlobalMaxPooling1D())\n",
    "model.add(Dense(1, activation = 'sigmoid'))\n",
    "\n",
    "model.compile(optimizer='adam',\n",
    "             loss = 'binary_crossentropy',\n",
    "             metrics = ['acc'])"
   ]
  },
  {
   "cell_type": "markdown",
   "metadata": {},
   "source": [
    "## 모델 학습시키기"
   ]
  },
  {
   "cell_type": "code",
   "execution_count": null,
   "metadata": {},
   "outputs": [],
   "source": [
    "history = model.fit(pad_X_train, y_train, \n",
    "                    batch_size = 32, epochs = 30, \n",
    "                    validation_split = 0.2)"
   ]
  },
  {
   "cell_type": "markdown",
   "metadata": {},
   "source": [
    "## 결과 그리기"
   ]
  },
  {
   "cell_type": "code",
   "execution_count": null,
   "metadata": {},
   "outputs": [],
   "source": [
    "import matplotlib.pyplot as plt\n",
    "\n",
    "his_dict = history.history\n",
    "loss = his_dict['loss']\n",
    "val_loss = his_dict['val_loss'] \n",
    "\n",
    "epochs = range(1, len(loss) + 1)\n",
    "fig = plt.figure(figsize = (10, 5))\n",
    "\n",
    "# 훈련 및 검증 손실 그리기\n",
    "ax1 = fig.add_subplot(1, 2, 1)\n",
    "ax1.plot(epochs, loss, color = 'blue', label = 'train_loss')\n",
    "ax1.plot(epochs, val_loss, color = 'orange', label = 'val_loss')\n",
    "ax1.set_title('train and val loss')\n",
    "ax1.set_xlabel('epochs')\n",
    "ax1.set_ylabel('loss')\n",
    "ax1.legend()\n",
    "\n",
    "acc = his_dict['acc']\n",
    "val_acc = his_dict['val_acc']\n",
    "\n",
    "# 훈련 및 검증 정확도 그리기\n",
    "ax2 = fig.add_subplot(1, 2, 2)\n",
    "ax2.plot(epochs, acc, color = 'blue', label = 'train_acc')\n",
    "ax2.plot(epochs, val_acc, color = 'orange', label = 'val_acc')\n",
    "ax2.set_title('train and val acc')\n",
    "ax2.set_xlabel('epochs')\n",
    "ax2.set_ylabel('acc')\n",
    "ax2.legend()\n",
    "\n",
    "plt.show()"
   ]
  },
  {
   "cell_type": "markdown",
   "metadata": {},
   "source": [
    "## 모델 구성하기 - Conv1D + LSTM"
   ]
  },
  {
   "cell_type": "code",
   "execution_count": null,
   "metadata": {},
   "outputs": [],
   "source": [
    "import numpy as np\n",
    "import matplotlib.pyplot as plt\n",
    "\n",
    "data = np.sin(2 * np.pi * 0.05 + np.arange(0, 500)) + np.random.random(500)\n",
    "plt.figure(figsize = (10, 5)) \n",
    "plt.plot(np.arange(0, 367), data[:367], 'bo-', color = 'black', alpha = 0.7) # 학습용 데이터\n",
    "plt.plot(np.arange(367, 500), data[367:], 'ro-', color = 'orange') # 테스트용 데이터\n",
    "\n",
    "def make_sequence(data, n):\n",
    "    x_train, y_train = list(), list()\n",
    "    \n",
    "    for i in range(len(data)):\n",
    "        x = data[i:(i + n)]\n",
    "        if (i + n) < len(data):\n",
    "            x_train.append(x)\n",
    "            y_train.append(data[i + n])\n",
    "        else:\n",
    "            break\n",
    "            \n",
    "    return np.array(x_train), np.array(y_train)\n",
    "\n",
    "n = 10\n",
    "\n",
    "x_train, y_train = make_sequence(data, n)\n",
    "x_train = x_train.reshape(-1, n, 1)\n",
    "y_train = y_train.reshape(-1, 1)\n",
    "\n",
    "from sklearn.model_selection import train_test_split\n",
    "\n",
    "x_train, x_test, y_train, y_test = train_test_split(x_train, y_train, test_size = 0.25)"
   ]
  },
  {
   "cell_type": "code",
   "execution_count": null,
   "metadata": {},
   "outputs": [],
   "source": [
    "from tensorflow.keras.models import Sequential\n",
    "from tensorflow.keras.layers import Dense, Embedding, Conv1D, MaxPooling1D, GlobalMaxPooling1D\n",
    "from tensorflow.keras.layers import LSTM\n",
    "\n",
    "model = Sequential()\n",
    "model.add(Conv1D(32, 3, activation = 'relu', input_shape = (10, 1)))\n",
    "model.add(MaxPooling1D(2))\n",
    "model.add(Conv1D(32, 3, activation = 'relu'))\n",
    "# LSTM을 혼합하여 모델을 구성합니다.\n",
    "model.add(LSTM(32, dropout = 0.2, recurrent_dropout = 0.2))\n",
    "model.add(Dense(1))\n",
    "\n",
    "model.compile(optimizer='adam',\n",
    "             loss = 'mse',\n",
    "             metrics = ['mse'])\n",
    "\n",
    "# 학습을 진행합니다.\n",
    "model.fit(x_train, y_train, epochs = 100, batch_size = 12)\n",
    "\n",
    "pred = model.predict(x_test)"
   ]
  },
  {
   "cell_type": "code",
   "execution_count": null,
   "metadata": {},
   "outputs": [],
   "source": [
    "# 결괏값을 그립니다.\n",
    "train_range = np.arange(0, len(y_train))\n",
    "pred_range = np.arange(len(y_train), len(y_train) + len(pred))\n",
    "train_shape= y_train.shape[0]; test_shape = y_test.shape[0]; pred_shape = pred.shape[0]\n",
    "\n",
    "plt.figure(figsize=(15,5))\n",
    "plt.plot(train_range, y_train.reshape(train_shape,), 'o-', color='black', alpha = 0.7)\n",
    "plt.plot(pred_range, y_test.reshape(test_shape,), 'o-', color='orange', label='ground-truth')\n",
    "plt.plot(pred_range, pred.reshape(test_shape,), 'o-', color='blue', label='prediction')\n",
    "plt.legend()\n",
    "plt.show()"
   ]
  },
  {
   "cell_type": "code",
   "execution_count": null,
   "metadata": {},
   "outputs": [],
   "source": []
  }
 ],
 "metadata": {
  "kernelspec": {
   "display_name": "keras_test",
   "language": "python",
   "name": "keras_test"
  },
  "language_info": {
   "codemirror_mode": {
    "name": "ipython",
    "version": 3
   },
   "file_extension": ".py",
   "mimetype": "text/x-python",
   "name": "python",
   "nbconvert_exporter": "python",
   "pygments_lexer": "ipython3",
   "version": "3.7.3"
  }
 },
 "nbformat": 4,
 "nbformat_minor": 2
}
