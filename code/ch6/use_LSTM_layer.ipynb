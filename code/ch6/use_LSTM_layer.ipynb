{
 "cells": [
  {
   "cell_type": "markdown",
   "metadata": {},
   "source": [
    "# IMDB 데이터셋"
   ]
  },
  {
   "cell_type": "code",
   "execution_count": null,
   "metadata": {},
   "outputs": [],
   "source": [
    "from tensorflow.keras.datasets import imdb\n",
    "\n",
    "num_words = 10000\n",
    "(X_train, y_train), (X_test, y_test) = imdb.load_data(num_words=num_words)\n",
    "\n",
    "print(X_train.shape, y_train.shape)\n",
    "print(X_test.shape, y_test.shape)\n",
    "\n",
    "from tensorflow.keras.preprocessing.sequence import pad_sequences\n",
    "\n",
    "max_len = 350\n",
    "\n",
    "pad_X_train = pad_sequences(X_train, maxlen=max_len)\n",
    "pad_X_test = pad_sequences(X_test, maxlen=max_len)\n",
    "\n",
    "print(len(pad_X_train[0]))\n",
    "\n",
    "from tensorflow.keras.models import Sequential\n",
    "from tensorflow.keras.layers import LSTM, Dense, Embedding  \n",
    "\n",
    "model = Sequential()\n",
    "model.add(Embedding(input_dim = num_words, output_dim = 32))\n",
    "model.add(LSTM(64, return_sequences = True))\n",
    "model.add(LSTM(64, return_sequences = True))\n",
    "model.add(LSTM(32))\n",
    "model.add(Dense(1, activation = 'sigmoid'))\n",
    "\n",
    "model.compile(optimizer='adam',\n",
    "             loss = 'binary_crossentropy',\n",
    "             metrics = ['acc'])"
   ]
  },
  {
   "cell_type": "code",
   "execution_count": null,
   "metadata": {},
   "outputs": [],
   "source": [
    "# model.summary()\n",
    "\n",
    "history = model.fit(pad_X_train, y_train, \n",
    "                    batch_size = 32, epochs = 15, \n",
    "                    validation_split = 0.2)"
   ]
  },
  {
   "cell_type": "code",
   "execution_count": null,
   "metadata": {},
   "outputs": [],
   "source": [
    "import matplotlib.pyplot as plt\n",
    "\n",
    "his_dict = history.history\n",
    "loss = his_dict['loss']\n",
    "val_loss = his_dict['val_loss'] \n",
    "\n",
    "epochs = range(1, len(loss) + 1)\n",
    "fig = plt.figure(figsize = (10, 5))\n",
    "\n",
    "# 훈련 및 검증 손실 그리기\n",
    "ax1 = fig.add_subplot(1, 2, 1)\n",
    "ax1.plot(epochs, loss, color = 'blue', label = 'train_loss')\n",
    "ax1.plot(epochs, val_loss, color = 'orange', label = 'val_loss')\n",
    "ax1.set_title('train and val loss')\n",
    "ax1.set_xlabel('epochs')\n",
    "ax1.set_ylabel('loss')\n",
    "ax1.legend()\n",
    "\n",
    "acc = his_dict['acc']\n",
    "val_acc = his_dict['val_acc']\n",
    "\n",
    "# 훈련 및 검증 정확도 그리기\n",
    "ax2 = fig.add_subplot(1, 2, 2)\n",
    "ax2.plot(epochs, acc, color = 'blue', label = 'train_acc')\n",
    "ax2.plot(epochs, val_acc, color = 'orange', label = 'val_acc')\n",
    "ax2.set_title('train and val acc')\n",
    "ax2.set_xlabel('epochs')\n",
    "ax2.set_ylabel('acc')\n",
    "ax2.legend()\n",
    "\n",
    "plt.show()"
   ]
  },
  {
   "cell_type": "markdown",
   "metadata": {},
   "source": [
    "## reuters 데이터셋 다뤄보기"
   ]
  },
  {
   "cell_type": "code",
   "execution_count": null,
   "metadata": {},
   "outputs": [],
   "source": [
    "from tensorflow.keras.datasets import reuters\n",
    "\n",
    "num_words = 10000\n",
    "(X_train, y_train), (X_test, y_test) = reuters.load_data(num_words=num_words)\n",
    "\n",
    "print(X_train.shape, y_train.shape)\n",
    "print(X_test.shape, y_test.shape)\n",
    "\n",
    "from tensorflow.keras.preprocessing.sequence import pad_sequences\n",
    "\n",
    "max_len = 500\n",
    "\n",
    "pad_X_train = pad_sequences(X_train, maxlen=max_len)\n",
    "pad_X_test = pad_sequences(X_test, maxlen=max_len)\n",
    "\n",
    "print(len(pad_X_train[0]))"
   ]
  },
  {
   "cell_type": "markdown",
   "metadata": {},
   "source": [
    "## LSTM 층을 사용하여 모델 구성하기"
   ]
  },
  {
   "cell_type": "code",
   "execution_count": 21,
   "metadata": {},
   "outputs": [],
   "source": [
    "from tensorflow.keras.models import Sequential\n",
    "from tensorflow.keras.layers import LSTM, Dense, Embedding  \n",
    "\n",
    "model = Sequential()\n",
    "model.add(Embedding(input_dim = num_words, output_dim = 64))\n",
    "model.add(LSTM(64, return_sequences = True))\n",
    "model.add(LSTM(32))\n",
    "model.add(Dense(46, activation = 'softmax'))\n",
    "\n",
    "model.compile(optimizer='adam',\n",
    "             loss = 'sparse_categorical_crossentropy',\n",
    "             metrics = ['acc'])"
   ]
  },
  {
   "cell_type": "markdown",
   "metadata": {},
   "source": [
    "## 모델 학습하기"
   ]
  },
  {
   "cell_type": "code",
   "execution_count": 22,
   "metadata": {
    "scrolled": true
   },
   "outputs": [
    {
     "name": "stdout",
     "output_type": "stream",
     "text": [
      "Train on 7185 samples, validate on 1797 samples\n",
      "Epoch 1/20\n",
      "7185/7185 [==============================] - 20s 3ms/sample - loss: 2.5374 - acc: 0.3516 - val_loss: 2.4146 - val_acc: 0.3450\n",
      "Epoch 2/20\n",
      "7185/7185 [==============================] - 16s 2ms/sample - loss: 2.3614 - acc: 0.3848 - val_loss: 2.1328 - val_acc: 0.4786\n",
      "Epoch 3/20\n",
      "7185/7185 [==============================] - 17s 2ms/sample - loss: 2.0333 - acc: 0.4958 - val_loss: 1.8691 - val_acc: 0.5303\n",
      "Epoch 4/20\n",
      "7185/7185 [==============================] - 16s 2ms/sample - loss: 1.8120 - acc: 0.5371 - val_loss: 1.7614 - val_acc: 0.5509\n",
      "Epoch 5/20\n",
      "7185/7185 [==============================] - 17s 2ms/sample - loss: 1.6951 - acc: 0.5616 - val_loss: 1.6825 - val_acc: 0.5698\n",
      "Epoch 6/20\n",
      "7185/7185 [==============================] - 18s 2ms/sample - loss: 1.5998 - acc: 0.5815 - val_loss: 1.6457 - val_acc: 0.5871\n",
      "Epoch 7/20\n",
      "7185/7185 [==============================] - 14s 2ms/sample - loss: 1.5111 - acc: 0.6021 - val_loss: 1.6217 - val_acc: 0.5776\n",
      "Epoch 8/20\n",
      "7185/7185 [==============================] - 16s 2ms/sample - loss: 1.4440 - acc: 0.6205 - val_loss: 1.5978 - val_acc: 0.5993\n",
      "Epoch 9/20\n",
      "7185/7185 [==============================] - 16s 2ms/sample - loss: 1.3560 - acc: 0.6444 - val_loss: 1.5491 - val_acc: 0.6244\n",
      "Epoch 10/20\n",
      "7185/7185 [==============================] - 14s 2ms/sample - loss: 1.3517 - acc: 0.6465 - val_loss: 1.6974 - val_acc: 0.5860\n",
      "Epoch 11/20\n",
      "7185/7185 [==============================] - 14s 2ms/sample - loss: 1.2654 - acc: 0.6777 - val_loss: 1.5164 - val_acc: 0.6361\n",
      "Epoch 12/20\n",
      "7185/7185 [==============================] - 14s 2ms/sample - loss: 1.1881 - acc: 0.6874 - val_loss: 1.6275 - val_acc: 0.5899\n",
      "Epoch 13/20\n",
      "7185/7185 [==============================] - 14s 2ms/sample - loss: 1.1001 - acc: 0.7141 - val_loss: 1.4641 - val_acc: 0.6411\n",
      "Epoch 14/20\n",
      "7185/7185 [==============================] - 14s 2ms/sample - loss: 1.0082 - acc: 0.7363 - val_loss: 1.4312 - val_acc: 0.6544\n",
      "Epoch 15/20\n",
      "7185/7185 [==============================] - 14s 2ms/sample - loss: 0.9326 - acc: 0.7566 - val_loss: 1.4648 - val_acc: 0.6450\n",
      "Epoch 16/20\n",
      "7185/7185 [==============================] - 15s 2ms/sample - loss: 0.9050 - acc: 0.7631 - val_loss: 1.4731 - val_acc: 0.6361\n",
      "Epoch 17/20\n",
      "7185/7185 [==============================] - 15s 2ms/sample - loss: 0.8624 - acc: 0.7747 - val_loss: 1.4671 - val_acc: 0.6533\n",
      "Epoch 18/20\n",
      "7185/7185 [==============================] - 14s 2ms/sample - loss: 0.7702 - acc: 0.8031 - val_loss: 1.4514 - val_acc: 0.6778\n",
      "Epoch 19/20\n",
      "7185/7185 [==============================] - 14s 2ms/sample - loss: 0.7163 - acc: 0.8170 - val_loss: 1.5086 - val_acc: 0.6533\n",
      "Epoch 20/20\n",
      "7185/7185 [==============================] - 14s 2ms/sample - loss: 0.6770 - acc: 0.8277 - val_loss: 1.4821 - val_acc: 0.6717\n"
     ]
    }
   ],
   "source": [
    "history = model.fit(pad_X_train, y_train, \n",
    "                    batch_size = 32, epochs = 20, \n",
    "                    validation_split = 0.2)"
   ]
  },
  {
   "cell_type": "markdown",
   "metadata": {},
   "source": [
    "## 학습과정 그리기"
   ]
  },
  {
   "cell_type": "code",
   "execution_count": 23,
   "metadata": {
    "scrolled": true
   },
   "outputs": [
    {
     "data": {
      "image/png": "[encoded data removed]",
      "text/plain": [
       "<Figure size 720x360 with 2 Axes>"
      ]
     },
     "metadata": {
      "needs_background": "light"
     },
     "output_type": "display_data"
    }
   ],
   "source": [
    "import matplotlib.pyplot as plt\n",
    "\n",
    "his_dict = history.history\n",
    "loss = his_dict['loss']\n",
    "val_loss = his_dict['val_loss'] \n",
    "\n",
    "epochs = range(1, len(loss) + 1)\n",
    "fig = plt.figure(figsize = (10, 5))\n",
    "\n",
    "# 훈련 및 검증 손실 그리기\n",
    "ax1 = fig.add_subplot(1, 2, 1)\n",
    "ax1.plot(epochs, loss, color = 'blue', label = 'train_loss')\n",
    "ax1.plot(epochs, val_loss, color = 'orange', label = 'val_loss')\n",
    "ax1.set_title('train and val loss')\n",
    "ax1.set_xlabel('epochs')\n",
    "ax1.set_ylabel('loss')\n",
    "ax1.legend()\n",
    "\n",
    "acc = his_dict['acc']\n",
    "val_acc = his_dict['val_acc']\n",
    "\n",
    "# 훈련 및 검증 정확도 그리기\n",
    "ax2 = fig.add_subplot(1, 2, 2)\n",
    "ax2.plot(epochs, acc, color = 'blue', label = 'train_acc')\n",
    "ax2.plot(epochs, val_acc, color = 'orange', label = 'val_acc')\n",
    "ax2.set_title('train and val acc')\n",
    "ax2.set_xlabel('epochs')\n",
    "ax2.set_ylabel('acc')\n",
    "ax2.legend()\n",
    "\n",
    "plt.show()"
   ]
  },
  {
   "cell_type": "code",
   "execution_count": null,
   "metadata": {},
   "outputs": [],
   "source": []
  }
 ],
 "metadata": {
  "kernelspec": {
   "display_name": "keras_study",
   "language": "python",
   "name": "keras_study"
  },
  "language_info": {
   "codemirror_mode": {
    "name": "ipython",
    "version": 3
   },
   "file_extension": ".py",
   "mimetype": "text/x-python",
   "name": "python",
   "nbconvert_exporter": "python",
   "pygments_lexer": "ipython3",
   "version": "3.7.3"
  }
 },
 "nbformat": 4,
 "nbformat_minor": 2
}
