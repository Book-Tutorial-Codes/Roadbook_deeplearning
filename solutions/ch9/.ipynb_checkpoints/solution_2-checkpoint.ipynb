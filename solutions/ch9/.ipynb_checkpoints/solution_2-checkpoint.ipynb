{
 "cells": [
  {
   "cell_type": "markdown",
   "metadata": {},
   "source": [
    "# Q2.<br>\n",
    "<b>많은 사람이 사용할수록 케라스가 더욱 빠르게 발전합니다. 주변 지인에게 케라스를 추천\n",
    "하세요!</b>"
   ]
  },
  {
   "cell_type": "markdown",
   "metadata": {},
   "source": [
    "+ 텐서플로우 공식 홈페이지: https://www.tensorflow.org/\n",
    "+ 케라스 공식 홈페이지: https://keras.io/  \n",
    "<br>\n",
    "+ 텐서플로우 코리아(페이스북): https://www.facebook.com/groups/TensorFlowKR/\n",
    "+ 케라스 코리아(페이스북): https://www.facebook.com/groups/KerasKorea/\n",
    "+ 캐글 코리아(페이스북): https://www.facebook.com/groups/KaggleKoreaOpenGroup/"
   ]
  }
 ],
 "metadata": {
  "kernelspec": {
   "display_name": "work",
   "language": "python",
   "name": "work"
  },
  "language_info": {
   "codemirror_mode": {
    "name": "ipython",
    "version": 3
   },
   "file_extension": ".py",
   "mimetype": "text/x-python",
   "name": "python",
   "nbconvert_exporter": "python",
   "pygments_lexer": "ipython3",
   "version": "3.6.5"
  }
 },
 "nbformat": 4,
 "nbformat_minor": 2
}
