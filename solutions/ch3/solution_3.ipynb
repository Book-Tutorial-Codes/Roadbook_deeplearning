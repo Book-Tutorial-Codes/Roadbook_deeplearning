{
 "cells": [
  {
   "cell_type": "markdown",
   "metadata": {},
   "source": [
    "# Q3.\n",
    "(번외) 신경망을 공부할 때, 시그모이드, 소프트맥스는 대표적으로 사용되는 활성화 함수입니다.  \n",
    "또한, 미분 개념을 설명하면서 자주 등장하기도 하는데요.  \n",
    "시그모이드 → 소프트맥스 순서로 미분을 직접 진행해보기를 바랍니다.  \n",
    "고등 수학 수준의 미분 개념으로 어렵지 않게해결할 수 있으며, 시그모이드 함수를 미분할 수 있다면,  \n",
    "소프트맥스 함수의 미분 과정에서\n",
    "재미있는 결과를 얻을 수 있을 것입니다."
   ]
  },
  {
   "cell_type": "code",
   "execution_count": null,
   "metadata": {},
   "outputs": [],
   "source": []
  }
 ],
 "metadata": {
  "kernelspec": {
   "display_name": "work",
   "language": "python",
   "name": "work"
  },
  "language_info": {
   "codemirror_mode": {
    "name": "ipython",
    "version": 3
   },
   "file_extension": ".py",
   "mimetype": "text/x-python",
   "name": "python",
   "nbconvert_exporter": "python",
   "pygments_lexer": "ipython3",
   "version": "3.6.5"
  }
 },
 "nbformat": 4,
 "nbformat_minor": 2
}
